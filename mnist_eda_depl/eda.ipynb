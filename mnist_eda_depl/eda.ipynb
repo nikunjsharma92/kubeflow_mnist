{
 "cells": [
  {
   "cell_type": "code",
   "execution_count": null,
   "metadata": {},
   "outputs": [],
   "source": [
    "############ INSTALL PACKAGES #######################\n",
    "!pip install matplotlib\n",
    "!pip install seaborn"
   ]
  },
  {
   "cell_type": "code",
   "execution_count": 2,
   "metadata": {},
   "outputs": [],
   "source": [
    "##########################################################\n",
    "# 1. IMPORT ALL PACKAGES\n",
    "##########################################################\n",
    "import pandas as pd\n",
    "import numpy as np\n",
    "from sklearn.linear_model import Perceptron\n",
    "from sklearn.model_selection import train_test_split\n",
    "import math\n",
    "import seaborn as sns\n",
    "from collections import Counter\n",
    "import matplotlib.pyplot as plt #for plotting\n",
    "from sklearn.ensemble import RandomForestClassifier\n",
    "# importing mean()\n",
    "from statistics import mean"
   ]
  },
  {
   "cell_type": "code",
   "execution_count": 3,
   "metadata": {},
   "outputs": [],
   "source": [
    "############### Download Train and Test Data ############################################\n",
    "import boto3\n",
    "s3 = boto3.client(\"s3\", region_name='ap-south-1')\n",
    "s3.download_file(\"kubeflow-ds-test-raw-lake\", \"data/train.csv\", \"data/train.csv\")\n",
    "s3.download_file(\"kubeflow-ds-test-raw-lake\", \"data/test.csv\", \"data/test.csv\")"
   ]
  },
  {
   "cell_type": "code",
   "execution_count": 4,
   "metadata": {},
   "outputs": [],
   "source": [
    "###################### EDA #################################################################\n",
    "import pandas as pd\n",
    "df_train = pd.read_csv(\"data/train.csv\",header=0)\n",
    "df_test = pd.read_csv(\"data/test.csv\",header=0)"
   ]
  },
  {
   "cell_type": "code",
   "execution_count": 5,
   "metadata": {},
   "outputs": [
    {
     "name": "stdout",
     "output_type": "stream",
     "text": [
      "All labels: {0, 1, 2, 3, 4, 5, 6, 7, 8, 9}\n",
      "Counter({1: 4684, 7: 4401, 3: 4351, 9: 4188, 2: 4177, 6: 4137, 0: 4132, 4: 4072, 8: 4063, 5: 3795})\n"
     ]
    },
    {
     "data": {
      "text/plain": [
       "<AxesSubplot:xlabel='label', ylabel='count'>"
      ]
     },
     "execution_count": 5,
     "metadata": {},
     "output_type": "execute_result"
    },
    {
     "data": {
      "image/png": "[encoded data removed]",
      "text/plain": [
       "<Figure size 432x288 with 1 Axes>"
      ]
     },
     "metadata": {
      "needs_background": "light"
     },
     "output_type": "display_data"
    }
   ],
   "source": [
    "# Check all classes/labels in trainiing data\n",
    "all_label = set(df_train['label'].tolist())\n",
    "print(\"All labels: {0}\".format(all_label))\n",
    "\n",
    "# Data distribution for each class\n",
    "dst_train = Counter(df_train['label'])\n",
    "print(dst_train)\n",
    "\n",
    "# Plot distribution\n",
    "sns.countplot(x=df_train['label'])"
   ]
  },
  {
   "cell_type": "code",
   "execution_count": 12,
   "metadata": {},
   "outputs": [
    {
     "name": "stdout",
     "output_type": "stream",
     "text": [
      "(42000, 785)\n",
      "(42000, 784)\n"
     ]
    }
   ],
   "source": [
    "print(df_train.shape)\n",
    "x = df_train.iloc[:, 1:]\n",
    "y = df_train['label'].tolist()\n",
    "print(x.shape)\n",
    "# # Select 10000 rows data as a testing dataset\n",
    "x_test = x.iloc[0:10000, :].values.astype('float32') # all pixel values \n",
    "y_test = y[0:10000] # Select label for testing data\n",
    "x_train = x.iloc[10000:, :].values.astype('float32') # all pixel values \n",
    "y_train = y[10000:]"
   ]
  },
  {
   "cell_type": "code",
   "execution_count": 7,
   "metadata": {},
   "outputs": [
    {
     "name": "stdout",
     "output_type": "stream",
     "text": [
      "(0.0, 255.0)\n",
      "x_train shape: (32000, 784)\n",
      "32000 train samples\n",
      "10000 test samples\n"
     ]
    }
   ],
   "source": [
    "print((min(x_train[2]), max(x_train[2])))\n",
    "\n",
    "# Normalizing the data\n",
    "x_train = x_train/255.0\n",
    "x_test = x_test/255.0\n",
    "\n",
    "# Printing the shape of the Datasets\n",
    "print('x_train shape:', x_train.shape)\n",
    "print(x_train.shape[0], 'train samples')\n",
    "print(x_test.shape[0], 'test samples')"
   ]
  },
  {
   "cell_type": "code",
   "execution_count": 8,
   "metadata": {},
   "outputs": [
    {
     "ename": "AttributeError",
     "evalue": "'list' object has no attribute 'shape'",
     "output_type": "error",
     "traceback": [
      "\u001b[0;31m---------------------------------------------------------------------------\u001b[0m",
      "\u001b[0;31mAttributeError\u001b[0m                            Traceback (most recent call last)",
      "\u001b[0;32m<ipython-input-8-defe21b6dc5f>\u001b[0m in \u001b[0;36m<module>\u001b[0;34m\u001b[0m\n\u001b[1;32m      2\u001b[0m \u001b[0mn_estimators\u001b[0m \u001b[0;34m=\u001b[0m \u001b[0;36m100\u001b[0m\u001b[0;34m\u001b[0m\u001b[0;34m\u001b[0m\u001b[0m\n\u001b[1;32m      3\u001b[0m \u001b[0mrandom_state\u001b[0m \u001b[0;34m=\u001b[0m \u001b[0;36m0\u001b[0m\u001b[0;34m\u001b[0m\u001b[0;34m\u001b[0m\u001b[0m\n\u001b[0;32m----> 4\u001b[0;31m \u001b[0mprint\u001b[0m\u001b[0;34m(\u001b[0m\u001b[0mx_train\u001b[0m\u001b[0;34m.\u001b[0m\u001b[0mshape\u001b[0m\u001b[0;34m,\u001b[0m \u001b[0my_train\u001b[0m\u001b[0;34m.\u001b[0m\u001b[0mshape\u001b[0m\u001b[0;34m)\u001b[0m\u001b[0;34m\u001b[0m\u001b[0;34m\u001b[0m\u001b[0m\n\u001b[0m\u001b[1;32m      5\u001b[0m \u001b[0mmodel_clf\u001b[0m \u001b[0;34m=\u001b[0m \u001b[0mRandomForestClassifier\u001b[0m\u001b[0;34m(\u001b[0m\u001b[0mn_estimators\u001b[0m\u001b[0;34m=\u001b[0m\u001b[0mn_estimators\u001b[0m\u001b[0;34m,\u001b[0m \u001b[0mmax_depth\u001b[0m\u001b[0;34m=\u001b[0m\u001b[0mdepth\u001b[0m\u001b[0;34m,\u001b[0m \u001b[0mrandom_state\u001b[0m\u001b[0;34m=\u001b[0m\u001b[0mrandom_state\u001b[0m\u001b[0;34m)\u001b[0m\u001b[0;34m\u001b[0m\u001b[0;34m\u001b[0m\u001b[0m\n\u001b[1;32m      6\u001b[0m \u001b[0;34m\u001b[0m\u001b[0m\n",
      "\u001b[0;31mAttributeError\u001b[0m: 'list' object has no attribute 'shape'"
     ]
    }
   ],
   "source": [
    "depth = 8\n",
    "n_estimators = 100\n",
    "random_state = 0\n",
    "print(x_train.shape, y_train.shape)\n",
    "model_clf = RandomForestClassifier(n_estimators=n_estimators, max_depth=depth, random_state=random_state)\n",
    "\n",
    "# Train the Random Forest algorithm\n",
    "model_clf.fit(x_train, y_train)"
   ]
  },
  {
   "cell_type": "code",
   "execution_count": 8,
   "metadata": {},
   "outputs": [],
   "source": [
    "y_pred = model_clf.predict(x_test)"
   ]
  },
  {
   "cell_type": "code",
   "execution_count": 9,
   "metadata": {},
   "outputs": [],
   "source": [
    "total = len(y_pred)\n",
    "wrong = 0\n",
    "for pred, truth in zip(y_pred, y_test):\n",
    "    wrong += 1 if pred != truth else 0\n",
    "\n",
    "accuracy = (total - wrong)/total"
   ]
  },
  {
   "cell_type": "code",
   "execution_count": 199,
   "metadata": {},
   "outputs": [
    {
     "name": "stdout",
     "output_type": "stream",
     "text": [
      "inputs: \n",
      "  [Tensor('float32', (-1, 784))]\n",
      "outputs: \n",
      "  [Tensor('int64', (-1,))]\n",
      "\n"
     ]
    }
   ],
   "source": [
    "########## log model ####################\n",
    "import mlflow\n",
    "from mlflow.models.signature import infer_signature\n",
    "\n",
    "mlflow.set_tracking_uri(\"http://mlflow-service.kubeflow.svc.cluster.local:80\")\n",
    "mlflow.set_experiment(\"mnist_rf_clf\")\n",
    "\n",
    "with mlflow.start_run() as run:\n",
    "    mlflow.log_param(\"n_estimators\", n_estimators)\n",
    "    mlflow.log_param(\"max_depth\", depth)\n",
    "    mlflow.log_param(\"random_state\", random_state)\n",
    "    mlflow.log_metric(\"accuracy\", accuracy)\n",
    "    \n",
    "    signature = infer_signature(x_train, y_pred)\n",
    "    print(signature)\n",
    "    \n",
    "#     mlflow.sklearn.log_model(model_clf, \"model\", registered_model_name=\"MNIST_RF_CLF\", signature=signature)\n",
    "    \n",
    "#     model_artifact_location = run.info.artifact_uri + \"/model\"\n",
    "#     logged_model = 'runs:/'+run.info.run_id+'/model'"
   ]
  },
  {
   "cell_type": "code",
   "execution_count": 180,
   "metadata": {},
   "outputs": [
    {
     "name": "stdout",
     "output_type": "stream",
     "text": [
      "runs:/7b681060cede4505978d09e951392f97/model\n"
     ]
    },
    {
     "name": "stderr",
     "output_type": "stream",
     "text": [
      "2021/11/23 10:47:51 INFO mlflow.sagemaker: Using the python_function flavor for deployment!\n",
      "2021/11/23 10:47:51 INFO mlflow.sagemaker: No model data bucket specified, using the default bucket\n",
      "2021/11/23 10:47:53 INFO mlflow.sagemaker: Default bucket `mlflow-sagemaker-ap-south-1-369737379577` already exists. Skipping creation.\n",
      "2021/11/23 10:47:57 INFO mlflow.sagemaker: tag response: {'ResponseMetadata': {'RequestId': 'SNK4NM26DM26YEVG', 'HostId': 'UHKRbWGjsgnCtLakGvEoPIl7zVFDkjpqxF/UJO1/2N2w6z0WNc6CWB82WMic7nyUATU01nKo8lw=', 'HTTPStatusCode': 200, 'HTTPHeaders': {'x-amz-id-2': 'UHKRbWGjsgnCtLakGvEoPIl7zVFDkjpqxF/UJO1/2N2w6z0WNc6CWB82WMic7nyUATU01nKo8lw=', 'x-amz-request-id': 'SNK4NM26DM26YEVG', 'date': 'Tue, 23 Nov 2021 10:47:58 GMT', 'server': 'AmazonS3', 'content-length': '0'}, 'RetryAttempts': 0}}\n",
      "2021/11/23 10:47:57 INFO mlflow.sagemaker: Found active endpoint with arn: arn:aws:sagemaker:ap-south-1:369737379577:endpoint/rf-mnist. Updating...\n",
      "2021/11/23 10:47:58 INFO mlflow.sagemaker: Created new model with arn: arn:aws:sagemaker:ap-south-1:369737379577:model/rf-mnist-model-91ge0lfas7ayhaxxgfxucw\n",
      "2021/11/23 10:47:58 INFO mlflow.sagemaker: Created new endpoint configuration with arn: arn:aws:sagemaker:ap-south-1:369737379577:endpoint-config/rf-mnist-config-cvhbjtiirabqkncjo3aprna\n",
      "2021/11/23 10:47:58 INFO mlflow.sagemaker: Updated endpoint with new configuration!\n",
      "2021/11/23 10:47:58 INFO mlflow.sagemaker: Waiting for the deployment operation to complete...\n",
      "2021/11/23 10:47:58 INFO mlflow.sagemaker: The operation is still in progress.\n",
      "2021/11/23 10:48:18 INFO mlflow.sagemaker: The update operation is still in progress. Current endpoint status: \"Updating\"\n",
      "2021/11/23 10:48:38 INFO mlflow.sagemaker: The update operation is still in progress. Current endpoint status: \"Updating\"\n",
      "2021/11/23 10:48:59 INFO mlflow.sagemaker: The update operation is still in progress. Current endpoint status: \"Updating\"\n",
      "2021/11/23 10:49:19 INFO mlflow.sagemaker: The update operation is still in progress. Current endpoint status: \"Updating\"\n",
      "2021/11/23 10:49:39 INFO mlflow.sagemaker: The update operation is still in progress. Current endpoint status: \"Updating\"\n",
      "2021/11/23 10:50:00 INFO mlflow.sagemaker: The update operation is still in progress. Current endpoint status: \"Updating\"\n",
      "2021/11/23 10:50:20 INFO mlflow.sagemaker: The update operation is still in progress. Current endpoint status: \"Updating\"\n",
      "2021/11/23 10:50:40 INFO mlflow.sagemaker: The update operation is still in progress. Current endpoint status: \"Updating\"\n",
      "2021/11/23 10:51:01 INFO mlflow.sagemaker: The update operation is still in progress. Current endpoint status: \"Updating\"\n",
      "2021/11/23 10:51:21 INFO mlflow.sagemaker: The update operation is still in progress. Current endpoint status: \"Updating\"\n",
      "2021/11/23 10:51:31 INFO mlflow.sagemaker: The deployment operation completed successfully with message: \"The SageMaker endpoint was updated successfully.\"\n",
      "2021/11/23 10:51:31 INFO mlflow.sagemaker: Cleaning up unused resources...\n",
      "2021/11/23 10:51:32 INFO mlflow.sagemaker: Deleted model with arn: arn:aws:sagemaker:ap-south-1:369737379577:model/rf-mnist-model-dsghkmhnsday0w5zdajvva\n",
      "2021/11/23 10:51:32 INFO mlflow.sagemaker: Deleted endpoint configuration with arn: arn:aws:sagemaker:ap-south-1:369737379577:endpoint-config/rf-mnist-config-xa8pmi6vqucj6swbkttwqw\n"
     ]
    }
   ],
   "source": [
    "############### load model and deploy ########################\n",
    "print(logged_model)\n",
    "import boto3\n",
    "import sagemaker\n",
    "import pandas as pd\n",
    "import numpy as np\n",
    "\n",
    "import botocore.config\n",
    "\n",
    "region = 'ap-south-1'\n",
    "\n",
    "config = botocore.config.Config(\n",
    "    user_agent_extra='dsoaws/1.0'\n",
    ")\n",
    "bsession = boto3.Session(region_name=region)\n",
    "sm = bsession.client(service_name=\"sagemaker\", \n",
    "                            region_name=region,\n",
    "                            config=config)\n",
    "sess = sagemaker.Session(boto_session=bsession, sagemaker_client=sm)\n",
    "role = sagemaker.get_execution_role(sagemaker_session=sess)\n",
    "\n",
    "import mlflow.sagemaker\n",
    "mlflow.set_tracking_uri(\"http://mlflow-service.kubeflow.svc.cluster.local:80\")\n",
    "mlflow.set_experiment(\"Default\")\n",
    "\n",
    "mlflow.sagemaker.deploy(\n",
    "    app_name='rf-mnist', #also the endpoint name\n",
    "    model_uri=logged_model,\n",
    "    image_url='369737379577.dkr.ecr.ap-south-1.amazonaws.com/mlflow-pyfunc:1.21.0',\n",
    "    execution_role_arn=role,\n",
    "    region_name=region, \n",
    "    mode='replace',\n",
    "    instance_type='ml.m4.xlarge', \n",
    "    instance_count=1)"
   ]
  },
  {
   "cell_type": "code",
   "execution_count": 35,
   "metadata": {},
   "outputs": [],
   "source": []
  },
  {
   "cell_type": "code",
   "execution_count": 200,
   "metadata": {},
   "outputs": [
    {
     "ename": "ParamValidationError",
     "evalue": "Parameter validation failed:\nInvalid type for parameter Body, value: {'instances': [{'features':    0    1    2    3    4    5    6    7    8    9    ...  774  775  776  777  \\\n0  0.0  0.0  0.0  0.0  0.0  0.0  0.0  0.0  0.0  0.0  ...  0.0  0.0  0.0  0.0   \n\n   778  779  780  781  782  783  \n0  0.0  0.0  0.0  0.0  0.0  0.0  \n\n[1 rows x 784 columns]}]}, type: <class 'dict'>, valid types: <class 'bytes'>, <class 'bytearray'>, file-like object",
     "output_type": "error",
     "traceback": [
      "\u001b[0;31m---------------------------------------------------------------------------\u001b[0m",
      "\u001b[0;31mParamValidationError\u001b[0m                      Traceback (most recent call last)",
      "\u001b[0;32m<ipython-input-200-9cbed828c326>\u001b[0m in \u001b[0;36m<module>\u001b[0;34m\u001b[0m\n\u001b[1;32m     27\u001b[0m     \u001b[0mEndpointName\u001b[0m\u001b[0;34m=\u001b[0m\u001b[0;34m'rf-mnist'\u001b[0m\u001b[0;34m,\u001b[0m\u001b[0;34m\u001b[0m\u001b[0;34m\u001b[0m\u001b[0m\n\u001b[1;32m     28\u001b[0m     \u001b[0mContentType\u001b[0m\u001b[0;34m=\u001b[0m\u001b[0mcontent_type\u001b[0m\u001b[0;34m,\u001b[0m\u001b[0;34m\u001b[0m\u001b[0;34m\u001b[0m\u001b[0m\n\u001b[0;32m---> 29\u001b[0;31m     \u001b[0mBody\u001b[0m\u001b[0;34m=\u001b[0m\u001b[0mrequest_body\u001b[0m\u001b[0;34m\u001b[0m\u001b[0;34m\u001b[0m\u001b[0m\n\u001b[0m\u001b[1;32m     30\u001b[0m     )\n\u001b[1;32m     31\u001b[0m \u001b[0;34m\u001b[0m\u001b[0m\n",
      "\u001b[0;32m/usr/local/lib/python3.6/dist-packages/botocore/client.py\u001b[0m in \u001b[0;36m_api_call\u001b[0;34m(self, *args, **kwargs)\u001b[0m\n\u001b[1;32m    314\u001b[0m                     \"%s() only accepts keyword arguments.\" % py_operation_name)\n\u001b[1;32m    315\u001b[0m             \u001b[0;31m# The \"self\" in this scope is referring to the BaseClient.\u001b[0m\u001b[0;34m\u001b[0m\u001b[0;34m\u001b[0m\u001b[0;34m\u001b[0m\u001b[0m\n\u001b[0;32m--> 316\u001b[0;31m             \u001b[0;32mreturn\u001b[0m \u001b[0mself\u001b[0m\u001b[0;34m.\u001b[0m\u001b[0m_make_api_call\u001b[0m\u001b[0;34m(\u001b[0m\u001b[0moperation_name\u001b[0m\u001b[0;34m,\u001b[0m \u001b[0mkwargs\u001b[0m\u001b[0;34m)\u001b[0m\u001b[0;34m\u001b[0m\u001b[0;34m\u001b[0m\u001b[0m\n\u001b[0m\u001b[1;32m    317\u001b[0m \u001b[0;34m\u001b[0m\u001b[0m\n\u001b[1;32m    318\u001b[0m         \u001b[0m_api_call\u001b[0m\u001b[0;34m.\u001b[0m\u001b[0m__name__\u001b[0m \u001b[0;34m=\u001b[0m \u001b[0mstr\u001b[0m\u001b[0;34m(\u001b[0m\u001b[0mpy_operation_name\u001b[0m\u001b[0;34m)\u001b[0m\u001b[0;34m\u001b[0m\u001b[0;34m\u001b[0m\u001b[0m\n",
      "\u001b[0;32m/usr/local/lib/python3.6/dist-packages/botocore/client.py\u001b[0m in \u001b[0;36m_make_api_call\u001b[0;34m(self, operation_name, api_params)\u001b[0m\n\u001b[1;32m    597\u001b[0m         }\n\u001b[1;32m    598\u001b[0m         request_dict = self._convert_to_request_dict(\n\u001b[0;32m--> 599\u001b[0;31m             api_params, operation_model, context=request_context)\n\u001b[0m\u001b[1;32m    600\u001b[0m \u001b[0;34m\u001b[0m\u001b[0m\n\u001b[1;32m    601\u001b[0m         \u001b[0mservice_id\u001b[0m \u001b[0;34m=\u001b[0m \u001b[0mself\u001b[0m\u001b[0;34m.\u001b[0m\u001b[0m_service_model\u001b[0m\u001b[0;34m.\u001b[0m\u001b[0mservice_id\u001b[0m\u001b[0;34m.\u001b[0m\u001b[0mhyphenize\u001b[0m\u001b[0;34m(\u001b[0m\u001b[0;34m)\u001b[0m\u001b[0;34m\u001b[0m\u001b[0;34m\u001b[0m\u001b[0m\n",
      "\u001b[0;32m/usr/local/lib/python3.6/dist-packages/botocore/client.py\u001b[0m in \u001b[0;36m_convert_to_request_dict\u001b[0;34m(self, api_params, operation_model, context)\u001b[0m\n\u001b[1;32m    645\u001b[0m             api_params, operation_model, context)\n\u001b[1;32m    646\u001b[0m         request_dict = self._serializer.serialize_to_request(\n\u001b[0;32m--> 647\u001b[0;31m             api_params, operation_model)\n\u001b[0m\u001b[1;32m    648\u001b[0m         \u001b[0;32mif\u001b[0m \u001b[0;32mnot\u001b[0m \u001b[0mself\u001b[0m\u001b[0;34m.\u001b[0m\u001b[0m_client_config\u001b[0m\u001b[0;34m.\u001b[0m\u001b[0minject_host_prefix\u001b[0m\u001b[0;34m:\u001b[0m\u001b[0;34m\u001b[0m\u001b[0;34m\u001b[0m\u001b[0m\n\u001b[1;32m    649\u001b[0m             \u001b[0mrequest_dict\u001b[0m\u001b[0;34m.\u001b[0m\u001b[0mpop\u001b[0m\u001b[0;34m(\u001b[0m\u001b[0;34m'host_prefix'\u001b[0m\u001b[0;34m,\u001b[0m \u001b[0;32mNone\u001b[0m\u001b[0;34m)\u001b[0m\u001b[0;34m\u001b[0m\u001b[0;34m\u001b[0m\u001b[0m\n",
      "\u001b[0;32m/usr/local/lib/python3.6/dist-packages/botocore/validate.py\u001b[0m in \u001b[0;36mserialize_to_request\u001b[0;34m(self, parameters, operation_model)\u001b[0m\n\u001b[1;32m    295\u001b[0m                                                     operation_model.input_shape)\n\u001b[1;32m    296\u001b[0m             \u001b[0;32mif\u001b[0m \u001b[0mreport\u001b[0m\u001b[0;34m.\u001b[0m\u001b[0mhas_errors\u001b[0m\u001b[0;34m(\u001b[0m\u001b[0;34m)\u001b[0m\u001b[0;34m:\u001b[0m\u001b[0;34m\u001b[0m\u001b[0;34m\u001b[0m\u001b[0m\n\u001b[0;32m--> 297\u001b[0;31m                 \u001b[0;32mraise\u001b[0m \u001b[0mParamValidationError\u001b[0m\u001b[0;34m(\u001b[0m\u001b[0mreport\u001b[0m\u001b[0;34m=\u001b[0m\u001b[0mreport\u001b[0m\u001b[0;34m.\u001b[0m\u001b[0mgenerate_report\u001b[0m\u001b[0;34m(\u001b[0m\u001b[0;34m)\u001b[0m\u001b[0;34m)\u001b[0m\u001b[0;34m\u001b[0m\u001b[0;34m\u001b[0m\u001b[0m\n\u001b[0m\u001b[1;32m    298\u001b[0m         return self._serializer.serialize_to_request(parameters,\n\u001b[1;32m    299\u001b[0m                                                      operation_model)\n",
      "\u001b[0;31mParamValidationError\u001b[0m: Parameter validation failed:\nInvalid type for parameter Body, value: {'instances': [{'features':    0    1    2    3    4    5    6    7    8    9    ...  774  775  776  777  \\\n0  0.0  0.0  0.0  0.0  0.0  0.0  0.0  0.0  0.0  0.0  ...  0.0  0.0  0.0  0.0   \n\n   778  779  780  781  782  783  \n0  0.0  0.0  0.0  0.0  0.0  0.0  \n\n[1 rows x 784 columns]}]}, type: <class 'dict'>, valid types: <class 'bytes'>, <class 'bytearray'>, file-like object"
     ]
    }
   ],
   "source": [
    "####################################################### Test the Deployment ##############################################################\n",
    "import boto3\n",
    "import pandas as pd\n",
    "import botocore\n",
    "\n",
    "region = 'ap-south-1'\n",
    "\n",
    "config = botocore.config.Config(\n",
    "    user_agent_extra='dsoaws/1.0'\n",
    ")\n",
    "# create sagemaker client using boto3\n",
    "bsession = boto3.Session(region_name=region)\n",
    "client = bsession.client(service_name=\"sagemaker-runtime\", \n",
    "                            region_name=region,\n",
    "                            config=config)\n",
    "\n",
    "request_body = {\n",
    "    \"instances\":[\n",
    "        {\n",
    "            \"features\": pd.DataFrame(x_test[0:1]).astype('float32')\n",
    "        }\n",
    "     ]\n",
    "}\n",
    "content_type = 'application/json'\n",
    "# Make call to endpoint\n",
    "response = client.invoke_endpoint(\n",
    "    EndpointName='rf-mnist',\n",
    "    ContentType=content_type,\n",
    "    Body=request_body\n",
    "    )\n",
    "\n",
    "print(\"Returned:\")\n",
    "print(response['Body'].read().decode())\n",
    "\n",
    "\n",
    "# content_type = \"text/csv\"\n",
    "# # Make call to endpoint\n",
    "# response = client.invoke_endpoint(\n",
    "#     EndpointName='rf-mnist',\n",
    "#     ContentType=content_type,\n",
    "#     Body=open('sample3.csv', 'rb')\n",
    "#     )\n",
    "\n",
    "# print(\"Returned:\")\n",
    "# print(response['Body'].read().decode())"
   ]
  },
  {
   "cell_type": "code",
   "execution_count": 191,
   "metadata": {},
   "outputs": [],
   "source": [
    "pd.DataFrame(x_test[0:1]).astype('float32').to_csv('sample3.csv')"
   ]
  },
  {
   "cell_type": "code",
   "execution_count": 167,
   "metadata": {},
   "outputs": [
    {
     "data": {
      "text/html": [
       "<div>\n",
       "<style scoped>\n",
       "    .dataframe tbody tr th:only-of-type {\n",
       "        vertical-align: middle;\n",
       "    }\n",
       "\n",
       "    .dataframe tbody tr th {\n",
       "        vertical-align: top;\n",
       "    }\n",
       "\n",
       "    .dataframe thead th {\n",
       "        text-align: right;\n",
       "    }\n",
       "</style>\n",
       "<table border=\"1\" class=\"dataframe\">\n",
       "  <thead>\n",
       "    <tr style=\"text-align: right;\">\n",
       "      <th></th>\n",
       "      <th>pixel0</th>\n",
       "      <th>pixel1</th>\n",
       "      <th>pixel2</th>\n",
       "      <th>pixel3</th>\n",
       "      <th>pixel4</th>\n",
       "      <th>pixel5</th>\n",
       "      <th>pixel6</th>\n",
       "      <th>pixel7</th>\n",
       "      <th>pixel8</th>\n",
       "      <th>pixel9</th>\n",
       "      <th>...</th>\n",
       "      <th>pixel774</th>\n",
       "      <th>pixel775</th>\n",
       "      <th>pixel776</th>\n",
       "      <th>pixel777</th>\n",
       "      <th>pixel778</th>\n",
       "      <th>pixel779</th>\n",
       "      <th>pixel780</th>\n",
       "      <th>pixel781</th>\n",
       "      <th>pixel782</th>\n",
       "      <th>pixel783</th>\n",
       "    </tr>\n",
       "  </thead>\n",
       "  <tbody>\n",
       "    <tr>\n",
       "      <th>1</th>\n",
       "      <td>0</td>\n",
       "      <td>0</td>\n",
       "      <td>0</td>\n",
       "      <td>0</td>\n",
       "      <td>0</td>\n",
       "      <td>0</td>\n",
       "      <td>0</td>\n",
       "      <td>0</td>\n",
       "      <td>0</td>\n",
       "      <td>0</td>\n",
       "      <td>...</td>\n",
       "      <td>0</td>\n",
       "      <td>0</td>\n",
       "      <td>0</td>\n",
       "      <td>0</td>\n",
       "      <td>0</td>\n",
       "      <td>0</td>\n",
       "      <td>0</td>\n",
       "      <td>0</td>\n",
       "      <td>0</td>\n",
       "      <td>0</td>\n",
       "    </tr>\n",
       "  </tbody>\n",
       "</table>\n",
       "<p>1 rows × 784 columns</p>\n",
       "</div>"
      ],
      "text/plain": [
       "   pixel0  pixel1  pixel2  pixel3  pixel4  pixel5  pixel6  pixel7  pixel8  \\\n",
       "1       0       0       0       0       0       0       0       0       0   \n",
       "\n",
       "   pixel9  ...  pixel774  pixel775  pixel776  pixel777  pixel778  pixel779  \\\n",
       "1       0  ...         0         0         0         0         0         0   \n",
       "\n",
       "   pixel780  pixel781  pixel782  pixel783  \n",
       "1         0         0         0         0  \n",
       "\n",
       "[1 rows x 784 columns]"
      ]
     },
     "execution_count": 167,
     "metadata": {},
     "output_type": "execute_result"
    }
   ],
   "source": []
  },
  {
   "cell_type": "code",
   "execution_count": 59,
   "metadata": {},
   "outputs": [],
   "source": []
  },
  {
   "cell_type": "code",
   "execution_count": null,
   "metadata": {},
   "outputs": [],
   "source": []
  }
 ],
 "metadata": {
  "kernelspec": {
   "display_name": "Python 3",
   "language": "python",
   "name": "python3"
  },
  "language_info": {
   "codemirror_mode": {
    "name": "ipython",
    "version": 3
   },
   "file_extension": ".py",
   "mimetype": "text/x-python",
   "name": "python",
   "nbconvert_exporter": "python",
   "pygments_lexer": "ipython3",
   "version": "3.6.9"
  }
 },
 "nbformat": 4,
 "nbformat_minor": 4
}
